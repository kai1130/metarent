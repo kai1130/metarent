{
 "cells": [
  {
   "cell_type": "code",
   "execution_count": 1,
   "id": "99e5c616",
   "metadata": {},
   "outputs": [],
   "source": [
    "import json\n",
    "import ricardian as rp\n",
    "import requests\n",
    "import keys"
   ]
  },
  {
   "cell_type": "code",
   "execution_count": 2,
   "id": "cda6368b",
   "metadata": {},
   "outputs": [],
   "source": [
    "path = keys.path\n",
    "task = keys.task"
   ]
  },
  {
   "cell_type": "code",
   "execution_count": 3,
   "id": "7da49f45",
   "metadata": {},
   "outputs": [],
   "source": [
    "params = {\"_drivinglicenseid\":\"ABC12345\",\n",
    "          \"_datetime\": \"Dec 3, 2022\",\n",
    "          \"_drivername\": \"David Bong\",\n",
    "          \"_driveremail\": \"david@email.com\"}"
   ]
  },
  {
   "cell_type": "code",
   "execution_count": 4,
   "id": "75584de2",
   "metadata": {},
   "outputs": [
    {
     "name": "stdout",
     "output_type": "stream",
     "text": [
      "Saved output file to /Users/kaihayden/Desktop/MetaMarketPy/Car-Rental-Agreement-Final.docx\n"
     ]
    }
   ],
   "source": [
    "template_file_path = f'{path}/MetaMarketPy/Car-Rental-Agreement-Template.docx'\n",
    "output_file_path = f'{path}/MetaMarketPy/Car-Rental-Agreement-Final.docx'\n",
    "\n",
    "\n",
    "variables = {\n",
    "    r'${_drivinglicenseid}': params['_drivinglicenseid'],\n",
    "    r'${_datetime}': params['_datetime'],\n",
    "    r'${_drivername}': params['_drivername'],\n",
    "    r'${_driveremail}': params['_driveremail']\n",
    "}\n",
    "\n",
    "rp.replace_doc_text(template_file_path, output_file_path, variables)"
   ]
  },
  {
   "cell_type": "code",
   "execution_count": 5,
   "id": "0873a4ed",
   "metadata": {},
   "outputs": [
    {
     "data": {
      "text/plain": [
       "'Car Rental Agreement\\n\\nThis Car Rental Agreement is entered into between Kai Hayden (“Owner”) and David Bong (“Renter”) (collectively the “Parties”) and outlines the respective rights and obligations of the Parties relating to the rental of a car.\\n\\nIdentification of Rental Vehicle\\n\\nOwner hereby agrees to rent to Renter a passenger vehicle identified as follows:\\n\\nMake\\nToyota\\nModel\\nAE86 Black Limited Kouki\\nVIN\\n1G1YC2D74H5100001\\nYear\\n2017\\nColor\\nBlack\\n\\n(hereinafter referred to as “Rental Vehicle”).\\n\\nIdentification of Parties\\n\\nIdentification of Owner:\\n\\nLegal Name\\nKai Hayden\\nEmail\\nkaihayden@email.com\\n\\nIdentification of Renter:\\n\\nLegal Name\\nDavid Bong\\nEmail\\ndavid@email.com\\nDrivers License ID\\nABC12345\\n\\nRental Term\\n\\nThe term of this Car Rental Agreement runs from the date and hour of vehicle pickup as indicated just above the signature line at the bottom of this agreement until the return of the vehicle to Owner, and completion of all terms of this agreement by both Parties. The rental term is as follows: \\n\\nStart Date: Dec 3, 2022\\nRental Term: 14 days\\n\\nScope of Use\\n\\nRenter will use the Rented Vehicle only for personal or routine business use, and operate the Rented Vehicle only on properly maintained roads and parking lots. Renter will comply with all applicable laws relating to holding licensure to operate the vehicle and pertaining to operation of motor vehicles.\\xa0Renter will not sublease the Rental Vehicle or use it as a vehicle for hire.\\n\\nRental Fees\\n\\nRenter will pay to Owner rental fees for use of the Rental Vehicle as follows:\\n\\nBase Fee\\n1200\\nFuel Fee\\n200\\n\\nExcess mileage surcharge as set forth in Section 4, above.\\n\\nSecurity Deposit\\n\\nRenter will be required to provide a security deposit to Owner in the amount of 300 (“Security Deposit”) to be used in the event of loss or damage to the Rental Vehicle during the term of this agreement.\\xa0In the event of damage to the Rental Vehicle, Owner will apply this Security Deposit to defray the costs of necessary repairs or replacement.\\xa0If the cost for repair or replacement of damage to the Rental Vehicle exceeds the amount of the Security Deposit, Renter will be responsible for payment to the Owner of the balance of this cost.\\n\\nJurisdiction and Venue\\n\\nIn the event of any dispute over this agreement, this Car Rental Agreement will be interpreted by the laws of Japan and any lawsuit or arbitration must be brought in the corresponding region of Japan. If any portion of this agreement is found to be unenforceable by a court of competent jurisdiction, the remainder of the agreement would still have full force and effect.\\n\\nBy signing the smart contract, the Parties agree to all terms and conditions set forth in this Car Rental Agreement.'"
      ]
     },
     "execution_count": 5,
     "metadata": {},
     "output_type": "execute_result"
    }
   ],
   "source": [
    "doc = rp.extract_text(output_file_path)\n",
    "doc"
   ]
  },
  {
   "cell_type": "code",
   "execution_count": 6,
   "id": "c6237372",
   "metadata": {},
   "outputs": [
    {
     "data": {
      "text/plain": [
       "<OpenAIObject text_completion id=cmpl-6AwlgDuzaNny8oECCxq0SIm2pxNaX at 0x7fab5004e810> JSON: {\n",
       "  \"choices\": [\n",
       "    {\n",
       "      \"finish_reason\": \"stop\",\n",
       "      \"index\": 0,\n",
       "      \"logprobs\": null,\n",
       "      \"text\": \"\\n\\n{\\n    \\\"Owner Name\\\": \\\"Kai Hayden\\\",\\n    \\\"Owner Email\\\": \\\"kaihayden@email.com\\\",\\n    \\\"Renter Name\\\": \\\"David Bong\\\",\\n    \\\"Renter Email\\\": \\\"david@email.com\\\",\\n    \\\"Renter Drivers License ID\\\": \\\"ABC12345\\\",\\n    \\\"Car Make\\\": \\\"Toyota\\\",\\n    \\\"Car Model\\\": \\\"AE86 Black Limited Kouki\\\",\\n    \\\"Car VIN\\\": \\\"1G1YC2D74H5100001\\\",\\n    \\\"Car Year\\\": \\\"2017\\\",\\n    \\\"Car Color\\\": \\\"Black\\\",\\n    \\\"Start Date\\\": \\\"Dec 3, 2022\\\",\\n    \\\"Rental Term\\\": \\\"14 days\\\",\\n    \\\"Base Fee\\\": \\\"1200\\\",\\n    \\\"Fuel Fee\\\": \\\"200\\\",\\n    \\\"Security Deposit\\\": \\\"300\\\"\\n}\"\n",
       "    }\n",
       "  ],\n",
       "  \"created\": 1668067204,\n",
       "  \"id\": \"cmpl-6AwlgDuzaNny8oECCxq0SIm2pxNaX\",\n",
       "  \"model\": \"text-davinci-002\",\n",
       "  \"object\": \"text_completion\",\n",
       "  \"usage\": {\n",
       "    \"completion_tokens\": 185,\n",
       "    \"prompt_tokens\": 728,\n",
       "    \"total_tokens\": 913\n",
       "  }\n",
       "}"
      ]
     },
     "execution_count": 6,
     "metadata": {},
     "output_type": "execute_result"
    }
   ],
   "source": [
    "raw_response = rp.generate_response(task, doc)\n",
    "raw_response"
   ]
  },
  {
   "cell_type": "code",
   "execution_count": 7,
   "id": "a3b9e59e",
   "metadata": {},
   "outputs": [
    {
     "data": {
      "text/plain": [
       "{'Owner Name': 'Kai Hayden',\n",
       " 'Owner Email': 'kaihayden@email.com',\n",
       " 'Renter Name': 'David Bong',\n",
       " 'Renter Email': 'david@email.com',\n",
       " 'Renter Drivers License ID': 'ABC12345',\n",
       " 'Car Make': 'Toyota',\n",
       " 'Car Model': 'AE86 Black Limited Kouki',\n",
       " 'Car VIN': '1G1YC2D74H5100001',\n",
       " 'Car Year': '2017',\n",
       " 'Car Color': 'Black',\n",
       " 'Start Date': datetime.date(2022, 12, 3),\n",
       " 'Rental Term': 14,\n",
       " 'Base Fee': 1200,\n",
       " 'Fuel Fee': 200,\n",
       " 'Security Deposit': 300,\n",
       " 'Start Timestamp': 1670047200000}"
      ]
     },
     "execution_count": 7,
     "metadata": {},
     "output_type": "execute_result"
    }
   ],
   "source": [
    "response = rp.clean_response(raw_response)\n",
    "response"
   ]
  },
  {
   "cell_type": "code",
   "execution_count": 8,
   "id": "ea28b64c",
   "metadata": {},
   "outputs": [
    {
     "name": "stdout",
     "output_type": "stream",
     "text": [
      "Validating Owner\n",
      "    Valid - Owner Email\n",
      "    Valid - Owner Name\n",
      "Validating Renter\n",
      "    Valid - Renter Email\n",
      "    Valid - Renter Name\n",
      "Validating Car\n",
      "    Valid - Car Make\n",
      "    Valid - Car Model\n",
      "    Valid - Car VIN\n",
      "    Valid - Car Year\n",
      "    Valid - Car Color\n",
      "Validating Dates\n",
      "    Valid - Start Date\n",
      "    Valid - Start Timestamp\n",
      "Validating Fee Structure\n",
      "    Valid - Base Fee\n",
      "    Valid - Fuel Fee\n",
      "    Valid - Security Deposit\n",
      "**Response Validation Token Set: TRUE**\n"
     ]
    },
    {
     "data": {
      "text/plain": [
       "{'Owner Name': 'Kai Hayden',\n",
       " 'Owner Email': 'kaihayden@email.com',\n",
       " 'Renter Name': 'David Bong',\n",
       " 'Renter Email': 'david@email.com',\n",
       " 'Renter Drivers License ID': 'ABC12345',\n",
       " 'Car Make': 'Toyota',\n",
       " 'Car Model': 'AE86 Black Limited Kouki',\n",
       " 'Car VIN': '1G1YC2D74H5100001',\n",
       " 'Car Year': '2017',\n",
       " 'Car Color': 'Black',\n",
       " 'Start Date': datetime.date(2022, 12, 3),\n",
       " 'Rental Term': 14,\n",
       " 'Base Fee': 1200,\n",
       " 'Fuel Fee': 200,\n",
       " 'Security Deposit': 300,\n",
       " 'Start Timestamp': 1670047200000,\n",
       " 'Validation Token': True}"
      ]
     },
     "execution_count": 8,
     "metadata": {},
     "output_type": "execute_result"
    }
   ],
   "source": [
    "validated_response = rp.validate_response(response)\n",
    "validated_response"
   ]
  },
  {
   "cell_type": "code",
   "execution_count": 9,
   "id": "5a0a2b37",
   "metadata": {},
   "outputs": [
    {
     "data": {
      "text/plain": [
       "{'body': {'Owner Name': 'Kai Hayden',\n",
       "  'Owner Email': 'kaihayden@email.com',\n",
       "  'Renter Name': 'David Bong',\n",
       "  'Renter Email': 'david@email.com',\n",
       "  'Renter Drivers License ID': 'ABC12345',\n",
       "  'Car Make': 'Toyota',\n",
       "  'Car Model': 'AE86 Black Limited Kouki',\n",
       "  'Car VIN': '1G1YC2D74H5100001',\n",
       "  'Car Year': '2017',\n",
       "  'Car Color': 'Black',\n",
       "  'Start Date': 'Dec 3, 2022',\n",
       "  'Rental Term': 14,\n",
       "  'Base Fee': 1200,\n",
       "  'Fuel Fee': 200,\n",
       "  'Security Deposit': 300,\n",
       "  'Start Timestamp': 1670047200000,\n",
       "  'Hash': 'bafkreib36vwxvtu5rqshlqdfzfclhjewzobt2czddzhbdjn3ojraqtre64',\n",
       "  'Validation Token': True},\n",
       " 'statusCode': 200}"
      ]
     },
     "execution_count": 9,
     "metadata": {},
     "output_type": "execute_result"
    }
   ],
   "source": [
    "r = requests.post('https://mykf6ekj5k.execute-api.us-east-2.amazonaws.com/metamarket', params=params)\n",
    "json.loads(r.text)"
   ]
  },
  {
   "cell_type": "code",
   "execution_count": null,
   "id": "8644f9f2",
   "metadata": {},
   "outputs": [],
   "source": [
    "### check it here https://web3.storage/products/w3link/"
   ]
  },
  {
   "cell_type": "code",
   "execution_count": 13,
   "id": "d1cb663c",
   "metadata": {},
   "outputs": [],
   "source": [
    "# with open('./response.json') as f:\n",
    "#     data = json.load(f)\n",
    "\n",
    "# with open('response.json', 'w') as fp:\n",
    "#     json.dump(validated_response, fp, default=str)"
   ]
  }
 ],
 "metadata": {
  "kernelspec": {
   "display_name": "Python 3 (ipykernel)",
   "language": "python",
   "name": "python3"
  },
  "language_info": {
   "codemirror_mode": {
    "name": "ipython",
    "version": 3
   },
   "file_extension": ".py",
   "mimetype": "text/x-python",
   "name": "python",
   "nbconvert_exporter": "python",
   "pygments_lexer": "ipython3",
   "version": "3.9.7"
  }
 },
 "nbformat": 4,
 "nbformat_minor": 5
}
